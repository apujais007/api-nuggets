{
  "nbformat": 4,
  "nbformat_minor": 0,
  "metadata": {
    "colab": {
      "provenance": [],
      "authorship_tag": "ABX9TyN1TCoZTEyyu/7jm293d15g",
      "include_colab_link": true
    },
    "kernelspec": {
      "name": "python3",
      "display_name": "Python 3"
    },
    "language_info": {
      "name": "python"
    }
  },
  "cells": [
    {
      "cell_type": "markdown",
      "metadata": {
        "id": "view-in-github",
        "colab_type": "text"
      },
      "source": [
        "<a href=\"https://colab.research.google.com/github/apujais007/api-nuggets/blob/main/grade_change.ipynb\" target=\"_parent\"><img src=\"https://colab.research.google.com/assets/colab-badge.svg\" alt=\"Open In Colab\"/></a>"
      ]
    },
    {
      "cell_type": "code",
      "execution_count": null,
      "metadata": {
        "colab": {
          "base_uri": "https://localhost:8080/"
        },
        "id": "dVahafskfBA-",
        "outputId": "b50ded70-6da9-481c-dc3a-aa23de656e36"
      },
      "outputs": [
        {
          "output_type": "stream",
          "name": "stdout",
          "text": [
            "FMP_API_KEY environment variable has been set.\n"
          ]
        }
      ],
      "source": [
        "from google.colab import userdata\n",
        "import os\n",
        "\n",
        "# Set the OPENAI_API_KEY environment variable\n",
        "os.environ[\"FMP_API_KEY\"] = userdata.get('FMP')\n",
        "\n",
        "print(\"FMP_API_KEY environment variable has been set.\")"
      ]
    },
    {
      "cell_type": "code",
      "source": [
        "import requests\n",
        "import pandas as pd\n",
        "\n",
        "# Assuming fetch_sp500_symbols is defined in cell 2us4hx50Ph-0 or sH16SjyKWQNT\n",
        "# Copying the function here for self-containment\n",
        "def get_json(url, params=None):\n",
        "    if params is None:\n",
        "        params = {}\n",
        "    params['apikey'] = os.environ[\"FMP_API_KEY\"] # Use the API key directly\n",
        "    r = requests.get(url, params=params)\n",
        "    if r.status_code == 200:\n",
        "        return r.json()\n",
        "    else:\n",
        "        print(f\"Error {r.status_code} for URL {url}\")\n",
        "        return None\n",
        "\n",
        "def fetch_sp500_symbols(top_n=100):\n",
        "    url = \"https://financialmodelingprep.com/api/v3/sp500_constituent\"\n",
        "    data = get_json(url)\n",
        "    if not data:\n",
        "        return []\n",
        "    return [item['symbol'] for item in data][:top_n]\n",
        "\n",
        "# 1. Get the list of top 100 S&P 500 tickers using the existing function\n",
        "top_100_tickers = fetch_sp500_symbols(top_n=500)\n",
        "\n",
        "print(top_100_tickers)"
      ],
      "metadata": {
        "colab": {
          "base_uri": "https://localhost:8080/"
        },
        "id": "9FXoJ1bGfYcG",
        "outputId": "459417cd-27a2-4340-9be7-db4e08ae7556"
      },
      "execution_count": null,
      "outputs": [
        {
          "output_type": "stream",
          "name": "stdout",
          "text": [
            "['APP', 'EME', 'HOOD', 'IBKR', 'XYZ', 'TTD', 'DDOG', 'COIN', 'DASH', 'EXE', 'TKO', 'WSM', 'APO', 'LII', 'WDAY', 'TPL', 'DELL', 'ERIE', 'PLTR', 'SW', 'CRWD', 'GDDY', 'KKR', 'VST', 'GEV', 'SOLV', 'DECK', 'SMCI', 'BLDR', 'JBL', 'UBER', 'HUBB', 'LULU', 'VLTO', 'ABNB', 'BX', 'KVUE', 'PANW', 'AXON', 'FICO', 'BG', 'PODD', 'GEHC', 'STLD', 'FSLR', 'ACGL', 'TRGP', 'EQT', 'PCG', 'CSGP', 'INVH', 'KDP', 'ON', 'VICI', 'WBD', 'CPT', 'MOH', 'NDSN', 'CEG', 'FDS', 'EPAM', 'BRO', 'DAY', 'MTCH', 'TECH', 'MRNA', 'CRL', 'PTC', 'GNRC', 'NXPI', 'MPWR', 'TRMB', 'TSLA', 'POOL', 'TER', 'TDY', 'TYL', 'WST', 'DPZ', 'DXCM', 'CARR', 'OTIS', 'IR', 'PAYC', 'LYV', 'STE', 'ZBRA', 'ODFL', 'WRB', 'NOW', 'LVS', 'NVR', 'CDW', 'IEX', 'LDOS', 'TROW', 'TMUS', 'AMCR', 'CTVA', 'DD', 'DOW', 'FOX', 'FOXA', 'WAB', 'ATO', 'FANG', 'LW', 'JKHY', 'KEYS', 'FTNT', 'ROL', 'ANET', 'CPRT', 'CPAY', 'BR', 'EVRG', 'MSCI', 'TTWO', 'HII', 'NCLH', 'CDNS', 'SBAC', 'IQV', 'AOS', 'MGM', 'PKG', 'RMD', 'BKR', 'ALGN', 'EG', 'HLT', 'IT', 'AMD', 'ARE', 'RJF', 'SRE', 'SNPS', 'REG', 'CBOE', 'INCY', 'IDXX', 'MAA', 'D', 'HWM', 'COO', 'CHTR', 'MTD', 'ALB', 'FTV', 'LNT', 'TDG', 'AJG', 'LKQ', 'DLR', 'GPN', 'ULTA', 'CNC', 'HOLX', 'UDR', 'AWK', 'FRT', 'CFG', 'EXR', 'WTW', 'CHD', 'SYF', 'HPE', 'VRSK', 'NWS', 'UAL', 'PYPL', 'KHC', 'JBHT', 'O', 'EQIX', 'HSIC', 'SWKS', 'HCA', 'RCL', 'UHS', 'URI', 'MLM', 'AVGO', 'GOOGL', 'ESS', 'TSCO', 'META', 'MHK', 'ALLE', 'AME', 'VRTX', 'DAL', 'NWSA', 'ZTS', 'GM', 'REGN', 'ABBV', 'APTV', 'GRMN', 'HUM', 'DG', 'MDLZ', 'PNR', 'LYB', 'STX', 'LRCX', 'MNST', 'KMI', 'PSX', 'CCI', 'DLTR', 'XYL', 'TEL', 'MOS', 'ACN', 'FCX', 'MPC', 'CMG', 'BLK', 'EW', 'FFIV', 'NFLX', 'TT', 'JCI', 'CB', 'KMX', 'OKE', 'BRK-B', 'NRG', 'ROP', 'ROST', 'V', 'BKNG', 'ES', 'PWR', 'WDC', 'ORLY', 'HRL', 'VTR', 'WELL', 'IRM', 'RSG', 'WYNN', 'SJM', 'WEC', 'NDAQ', 'APH', 'LHX', 'CRM', 'FAST', 'CF', 'IVZ', 'DVA', 'MA', 'CTRA', 'ISRG', 'DOC', 'PM', 'AMT', 'J', 'EXPD', 'EXPE', 'ICE', 'MCHP', 'AKAM', 'AIZ', 'HST', 'CHRW', 'RL', 'AVB', 'CTSH', 'CBRE', 'FIS', 'CME', 'KIM', 'BXP', 'GOOG', 'VRSN', 'EL', 'AMZN', 'LEN', 'AMP', 'PSA', 'TSN', 'STZ', 'DHI', 'LH', 'TPR', 'TMO', 'GILD', 'VTRS', 'MTB', 'BIIB', 'PLD', 'GEN', 'MKC', 'STT', 'VLO', 'DGX', 'CMCSA', 'TRV', 'ELV', 'EA', 'EBAY', 'GS', 'PFG', 'PRU', 'UPS', 'SPG', 'WAT', 'EQR', 'NVDA', 'PPL', 'COR', 'ZBH', 'FI', 'TXN', 'CTAS', 'SYK', 'MET', 'INTU', 'EOG', 'NI', 'DVN', 'SBUX', 'A', 'ROK', 'USB', 'ADI', 'PNW', 'QCOM', 'VMC', 'BBY', 'NTAP', 'AFL', 'MCK', 'CCL', 'DHR', 'AES', 'PAYX', 'WM', 'RF', 'COF', 'MCO', 'MAR', 'BEN', 'NTRS', 'OMC', 'CINF', 'TFC', 'FE', 'YUM', 'KLAC', 'HBAN', 'PGR', 'APA', 'EFX', 'SCHW', 'CAH', 'ADBE', 'AZO', 'AON', 'FITB', 'ALL', 'DRI', 'L', 'BK', 'AMAT', 'GLW', 'BSX', 'PSKY', 'MU', 'LUV', 'UNH', 'MSFT', 'KEY', 'EMN', 'CSCO', 'COST', 'MS', 'IPG', 'LIN', 'AMGN', 'AEE', 'ADSK', 'K', 'ORCL', 'GL', 'ECL', 'NKE', 'C', 'PNC', 'HD', 'AVY', 'MMC', 'SYY', 'MDT', 'ITW', 'PH', 'DOV', 'TJX', 'CNP', 'RVTY', 'APD', 'NUE', 'BALL', 'HAS', 'PHM', 'LOW', 'T', 'VZ', 'CAG', 'AAPL', 'BF-B', 'SNA', 'SWK', 'WMT', 'GWW', 'MAS', 'ADP', 'FDX', 'PCAR', 'AIG', 'WY', 'TXT', 'INTC', 'TGT', 'AXP', 'BAC', 'CI', 'DIS', 'DUK', 'NEE', 'TAP', 'WFC', 'IFF', 'JPM', 'WMB', 'HPQ', 'GPC', 'JNJ', 'BAX', 'BDX', 'LLY', 'MCD', 'NEM', 'CLX', 'CMI', 'EMR', 'SHW', 'ABT', 'ADM', 'AEP', 'BA', 'BMY', 'CAT', 'CL', 'CMS', 'COP', 'CPB', 'CSX', 'CVS', 'CVX', 'DE', 'DTE', 'ED', 'EIX', 'ETN', 'ETR', 'EXC', 'F', 'GD', 'GE', 'GIS', 'HAL', 'HIG', 'HON', 'HSY', 'IBM', 'IP', 'KMB', 'KO', 'KR', 'LMT', 'MMM', 'MO', 'MRK', 'MSI', 'NOC', 'NSC', 'OXY', 'PEG', 'PEP', 'PFE', 'PG', 'PPG', 'RTX', 'SLB', 'SO', 'SPGI']\n"
          ]
        }
      ]
    },
    {
      "cell_type": "code",
      "source": [
        "import requests\n",
        "from datetime import datetime, timedelta, date\n",
        "\n",
        "def get_upgraded_downgraded_symbols(symbols, api_key, debug=False, test_date=None):\n",
        "    base_url = \"https://financialmodelingprep.com/stable/grades\"\n",
        "\n",
        "    today = datetime.today().date()\n",
        "\n",
        "    if test_date:\n",
        "        # Force valid_dates to include the test_date\n",
        "        valid_dates = [datetime.strptime(test_date, \"%Y-%m-%d\").date()]\n",
        "    else:\n",
        "        # Default: last 3 trading days\n",
        "        valid_dates = []\n",
        "        day = today\n",
        "        while len(valid_dates) < 3:\n",
        "            if day.weekday() < 5:\n",
        "                valid_dates.append(day)\n",
        "            day -= timedelta(days=1)\n",
        "\n",
        "    if debug:\n",
        "        print(\"Valid dates being checked:\", valid_dates)\n",
        "\n",
        "    result = []\n",
        "\n",
        "    for symbol in symbols:\n",
        "        try:\n",
        "            url = f\"{base_url}?symbol={symbol}&apikey={api_key}\"\n",
        "            response = requests.get(url)\n",
        "            response.raise_for_status()\n",
        "            data = response.json()\n",
        "\n",
        "            if not data:\n",
        "                if debug:\n",
        "                    print(f\"{symbol}: no data returned\")\n",
        "                continue\n",
        "\n",
        "            latest = data[0]\n",
        "            grade_date = datetime.strptime(latest[\"date\"], \"%Y-%m-%d\").date()\n",
        "            action = latest[\"action\"].lower()\n",
        "\n",
        "            if debug:\n",
        "                print(f\"{symbol}: latest_date={grade_date}, action={action}\")\n",
        "\n",
        "            if grade_date in valid_dates and action in (\"upgrade\", \"downgrade\"):\n",
        "                result.append(symbol)\n",
        "\n",
        "        except Exception as e:\n",
        "            print(f\"Error processing {symbol}: {e}\")\n",
        "\n",
        "    if debug:\n",
        "        print(\"Final result:\", result)\n",
        "\n",
        "    return result\n",
        "\n",
        "# Example usage:\n",
        "symbols = [\"DDOG\", \"AAPL\", \"MSFT\", \"TSLA\"]\n",
        "api_key = os.environ[\"FMP_API_KEY\"]\n",
        "\n",
        "#matches = get_upgraded_downgraded_symbols(symbols, api_key,debug=True)\n",
        "matches = get_upgraded_downgraded_symbols(top_100_tickers, api_key,debug=False, test_date=\"2025-10-01\")\n",
        "print(\"Today's upgrades/downgrades:\", matches)\n"
      ],
      "metadata": {
        "colab": {
          "base_uri": "https://localhost:8080/"
        },
        "id": "gb52bU-ngDxg",
        "outputId": "5f8e4074-9591-442c-8ac1-f350430c10ee"
      },
      "execution_count": null,
      "outputs": [
        {
          "output_type": "stream",
          "name": "stdout",
          "text": [
            "Today's upgrades/downgrades: ['URI', 'T']\n"
          ]
        }
      ]
    }
  ]
}