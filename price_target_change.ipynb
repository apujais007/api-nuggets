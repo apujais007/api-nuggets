{
  "nbformat": 4,
  "nbformat_minor": 0,
  "metadata": {
    "colab": {
      "provenance": [],
      "authorship_tag": "ABX9TyMF0Ktw6eWLnnLUmFZELEgN",
      "include_colab_link": true
    },
    "kernelspec": {
      "name": "python3",
      "display_name": "Python 3"
    },
    "language_info": {
      "name": "python"
    }
  },
  "cells": [
    {
      "cell_type": "markdown",
      "metadata": {
        "id": "view-in-github",
        "colab_type": "text"
      },
      "source": [
        "<a href=\"https://colab.research.google.com/github/apujais007/api-nuggets/blob/main/price_target_change.ipynb\" target=\"_parent\"><img src=\"https://colab.research.google.com/assets/colab-badge.svg\" alt=\"Open In Colab\"/></a>"
      ]
    },
    {
      "cell_type": "code",
      "execution_count": null,
      "metadata": {
        "colab": {
          "base_uri": "https://localhost:8080/"
        },
        "id": "dVahafskfBA-",
        "outputId": "539e90b9-d2d7-4b1f-e6b7-6d372520b4fd"
      },
      "outputs": [
        {
          "output_type": "stream",
          "name": "stdout",
          "text": [
            "FMP_API_KEY environment variable has been set.\n"
          ]
        }
      ],
      "source": [
        "from google.colab import userdata\n",
        "import os\n",
        "\n",
        "# Set the OPENAI_API_KEY environment variable\n",
        "os.environ[\"FMP_API_KEY\"] = userdata.get('FMP')\n",
        "\n",
        "print(\"FMP_API_KEY environment variable has been set.\")"
      ]
    },
    {
      "cell_type": "code",
      "source": [
        "import requests\n",
        "\n",
        "import requests\n",
        "import pandas as pd\n",
        "import json\n",
        "from datetime import datetime\n",
        "import pytz\n",
        "\n",
        "# Define the API endpoint and your API key\n",
        "API_KEY = os.environ[\"FMP_API_KEY\"]\n",
        "url = f\"https://financialmodelingprep.com/stable/price-target-latest-news?apikey={API_KEY}\"\n",
        "\n",
        "\n",
        "resp = requests.get(url)\n",
        "data = resp.json()\n",
        "\n",
        "rows = []\n",
        "utc = pytz.utc\n",
        "eastern = pytz.timezone(\"US/Eastern\")\n",
        "\n",
        "for entry in data:\n",
        "    raw_date = entry.get(\"publishedDate\")\n",
        "    if raw_date:\n",
        "        dt_utc = datetime.strptime(raw_date, \"%Y-%m-%dT%H:%M:%S.000Z\").replace(tzinfo=utc)\n",
        "        dt_est = dt_utc.astimezone(eastern)\n",
        "        formatted_date = dt_est.strftime(\"%I:%M %p %Z\")\n",
        "    else:\n",
        "        formatted_date = None\n",
        "\n",
        "    rows.append({\n",
        "        \"symbol\": entry.get(\"symbol\"),\n",
        "        \"Time\":formatted_date,\n",
        "        \"analyst\": entry.get(\"analystCompany\", \"\"),\n",
        "        \"priceWhenPosted\": entry.get(\"priceWhenPosted\"),\n",
        "        \"priceTarget\": entry.get(\"priceTarget\"),\n",
        "        \"newsTitle\": entry.get(\"newsTitle\")\n",
        "    })\n",
        "\n",
        "df = pd.DataFrame(rows)\n",
        "\n",
        "# Define color highlighting function\n",
        "def highlight_target(row):\n",
        "    if pd.notnull(row['priceTarget']) and pd.notnull(row['priceWhenPosted']):\n",
        "        if row['priceTarget'] > row['priceWhenPosted']:\n",
        "            return ['background-color: lightgreen'] * len(row)\n",
        "        elif row['priceTarget'] < row['priceWhenPosted']:\n",
        "            return ['background-color: salmon'] * len(row)\n",
        "    return [''] * len(row)\n",
        "\n",
        "styled_df = df.style.apply(highlight_target, axis=1)\n",
        "styled_df"
      ],
      "metadata": {
        "colab": {
          "base_uri": "https://localhost:8080/",
          "height": 363
        },
        "id": "9FXoJ1bGfYcG",
        "outputId": "6cd8ec4f-28ca-4322-b47d-d288a9a91006"
      },
      "execution_count": 17,
      "outputs": [
        {
          "output_type": "execute_result",
          "data": {
            "text/plain": [
              "<pandas.io.formats.style.Styler at 0x7f1bda6746e0>"
            ],
            "text/html": [
              "<style type=\"text/css\">\n",
              "#T_70eec_row0_col0, #T_70eec_row0_col1, #T_70eec_row0_col2, #T_70eec_row0_col3, #T_70eec_row0_col4, #T_70eec_row0_col5, #T_70eec_row1_col0, #T_70eec_row1_col1, #T_70eec_row1_col2, #T_70eec_row1_col3, #T_70eec_row1_col4, #T_70eec_row1_col5, #T_70eec_row2_col0, #T_70eec_row2_col1, #T_70eec_row2_col2, #T_70eec_row2_col3, #T_70eec_row2_col4, #T_70eec_row2_col5, #T_70eec_row5_col0, #T_70eec_row5_col1, #T_70eec_row5_col2, #T_70eec_row5_col3, #T_70eec_row5_col4, #T_70eec_row5_col5, #T_70eec_row6_col0, #T_70eec_row6_col1, #T_70eec_row6_col2, #T_70eec_row6_col3, #T_70eec_row6_col4, #T_70eec_row6_col5, #T_70eec_row7_col0, #T_70eec_row7_col1, #T_70eec_row7_col2, #T_70eec_row7_col3, #T_70eec_row7_col4, #T_70eec_row7_col5, #T_70eec_row8_col0, #T_70eec_row8_col1, #T_70eec_row8_col2, #T_70eec_row8_col3, #T_70eec_row8_col4, #T_70eec_row8_col5, #T_70eec_row9_col0, #T_70eec_row9_col1, #T_70eec_row9_col2, #T_70eec_row9_col3, #T_70eec_row9_col4, #T_70eec_row9_col5 {\n",
              "  background-color: lightgreen;\n",
              "}\n",
              "#T_70eec_row3_col0, #T_70eec_row3_col1, #T_70eec_row3_col2, #T_70eec_row3_col3, #T_70eec_row3_col4, #T_70eec_row3_col5, #T_70eec_row4_col0, #T_70eec_row4_col1, #T_70eec_row4_col2, #T_70eec_row4_col3, #T_70eec_row4_col4, #T_70eec_row4_col5 {\n",
              "  background-color: salmon;\n",
              "}\n",
              "</style>\n",
              "<table id=\"T_70eec\" class=\"dataframe\">\n",
              "  <thead>\n",
              "    <tr>\n",
              "      <th class=\"blank level0\" >&nbsp;</th>\n",
              "      <th id=\"T_70eec_level0_col0\" class=\"col_heading level0 col0\" >symbol</th>\n",
              "      <th id=\"T_70eec_level0_col1\" class=\"col_heading level0 col1\" >Time</th>\n",
              "      <th id=\"T_70eec_level0_col2\" class=\"col_heading level0 col2\" >analyst</th>\n",
              "      <th id=\"T_70eec_level0_col3\" class=\"col_heading level0 col3\" >priceWhenPosted</th>\n",
              "      <th id=\"T_70eec_level0_col4\" class=\"col_heading level0 col4\" >priceTarget</th>\n",
              "      <th id=\"T_70eec_level0_col5\" class=\"col_heading level0 col5\" >newsTitle</th>\n",
              "    </tr>\n",
              "  </thead>\n",
              "  <tbody>\n",
              "    <tr>\n",
              "      <th id=\"T_70eec_level0_row0\" class=\"row_heading level0 row0\" >0</th>\n",
              "      <td id=\"T_70eec_row0_col0\" class=\"data row0 col0\" >NVO</td>\n",
              "      <td id=\"T_70eec_row0_col1\" class=\"data row0 col1\" >04:03 PM EDT</td>\n",
              "      <td id=\"T_70eec_row0_col2\" class=\"data row0 col2\" >HSBC</td>\n",
              "      <td id=\"T_70eec_row0_col3\" class=\"data row0 col3\" >59.170000</td>\n",
              "      <td id=\"T_70eec_row0_col4\" class=\"data row0 col4\" >70</td>\n",
              "      <td id=\"T_70eec_row0_col5\" class=\"data row0 col5\" >Novo Nordisk upgraded to Buy from Hold at HSBC</td>\n",
              "    </tr>\n",
              "    <tr>\n",
              "      <th id=\"T_70eec_level0_row1\" class=\"row_heading level0 row1\" >1</th>\n",
              "      <td id=\"T_70eec_row1_col0\" class=\"data row1 col0\" >LW</td>\n",
              "      <td id=\"T_70eec_row1_col1\" class=\"data row1 col1\" >02:58 PM EDT</td>\n",
              "      <td id=\"T_70eec_row1_col2\" class=\"data row1 col2\" >Stifel Nicolaus</td>\n",
              "      <td id=\"T_70eec_row1_col3\" class=\"data row1 col3\" >62.010000</td>\n",
              "      <td id=\"T_70eec_row1_col4\" class=\"data row1 col4\" >63</td>\n",
              "      <td id=\"T_70eec_row1_col5\" class=\"data row1 col5\" >Lamb Weston price target raised to $63 from $61 at Stifel</td>\n",
              "    </tr>\n",
              "    <tr>\n",
              "      <th id=\"T_70eec_level0_row2\" class=\"row_heading level0 row2\" >2</th>\n",
              "      <td id=\"T_70eec_row2_col0\" class=\"data row2 col0\" >VUZI</td>\n",
              "      <td id=\"T_70eec_row2_col1\" class=\"data row2 col1\" >11:59 AM EDT</td>\n",
              "      <td id=\"T_70eec_row2_col2\" class=\"data row2 col2\" >Craig-Hallum</td>\n",
              "      <td id=\"T_70eec_row2_col3\" class=\"data row2 col3\" >3.480000</td>\n",
              "      <td id=\"T_70eec_row2_col4\" class=\"data row2 col4\" >6</td>\n",
              "      <td id=\"T_70eec_row2_col5\" class=\"data row2 col5\" >Vuzix price target raised to $6 from $3 at Craig-Hallum</td>\n",
              "    </tr>\n",
              "    <tr>\n",
              "      <th id=\"T_70eec_level0_row3\" class=\"row_heading level0 row3\" >3</th>\n",
              "      <td id=\"T_70eec_row3_col0\" class=\"data row3 col0\" >ARE</td>\n",
              "      <td id=\"T_70eec_row3_col1\" class=\"data row3 col1\" >11:18 AM EDT</td>\n",
              "      <td id=\"T_70eec_row3_col2\" class=\"data row3 col2\" >BNP Paribas</td>\n",
              "      <td id=\"T_70eec_row3_col3\" class=\"data row3 col3\" >83.460000</td>\n",
              "      <td id=\"T_70eec_row3_col4\" class=\"data row3 col4\" >82</td>\n",
              "      <td id=\"T_70eec_row3_col5\" class=\"data row3 col5\" >Alexandria Real Estate downgraded to Underperform from Neutral at BNP Paribas Exane</td>\n",
              "    </tr>\n",
              "    <tr>\n",
              "      <th id=\"T_70eec_level0_row4\" class=\"row_heading level0 row4\" >4</th>\n",
              "      <td id=\"T_70eec_row4_col0\" class=\"data row4 col0\" >UNFI</td>\n",
              "      <td id=\"T_70eec_row4_col1\" class=\"data row4 col1\" >10:36 AM EDT</td>\n",
              "      <td id=\"T_70eec_row4_col2\" class=\"data row4 col2\" >Roth Capital</td>\n",
              "      <td id=\"T_70eec_row4_col3\" class=\"data row4 col3\" >39.185200</td>\n",
              "      <td id=\"T_70eec_row4_col4\" class=\"data row4 col4\" >35</td>\n",
              "      <td id=\"T_70eec_row4_col5\" class=\"data row4 col5\" >United Natural Foods price target raised to $35 from $25 at Roth Capital</td>\n",
              "    </tr>\n",
              "    <tr>\n",
              "      <th id=\"T_70eec_level0_row5\" class=\"row_heading level0 row5\" >5</th>\n",
              "      <td id=\"T_70eec_row5_col0\" class=\"data row5 col0\" >ENTA</td>\n",
              "      <td id=\"T_70eec_row5_col1\" class=\"data row5 col1\" >10:21 AM EDT</td>\n",
              "      <td id=\"T_70eec_row5_col2\" class=\"data row5 col2\" >Jefferies</td>\n",
              "      <td id=\"T_70eec_row5_col3\" class=\"data row5 col3\" >10.884900</td>\n",
              "      <td id=\"T_70eec_row5_col4\" class=\"data row5 col4\" >20</td>\n",
              "      <td id=\"T_70eec_row5_col5\" class=\"data row5 col5\" >Enanta upgraded to Buy from Hold at Jefferies</td>\n",
              "    </tr>\n",
              "    <tr>\n",
              "      <th id=\"T_70eec_level0_row6\" class=\"row_heading level0 row6\" >6</th>\n",
              "      <td id=\"T_70eec_row6_col0\" class=\"data row6 col0\" >WTW</td>\n",
              "      <td id=\"T_70eec_row6_col1\" class=\"data row6 col1\" >09:46 AM EDT</td>\n",
              "      <td id=\"T_70eec_row6_col2\" class=\"data row6 col2\" >Evercore ISI</td>\n",
              "      <td id=\"T_70eec_row6_col3\" class=\"data row6 col3\" >343.950000</td>\n",
              "      <td id=\"T_70eec_row6_col4\" class=\"data row6 col4\" >387</td>\n",
              "      <td id=\"T_70eec_row6_col5\" class=\"data row6 col5\" >WTW price target raised to $387 from $373 at Evercore ISI</td>\n",
              "    </tr>\n",
              "    <tr>\n",
              "      <th id=\"T_70eec_level0_row7\" class=\"row_heading level0 row7\" >7</th>\n",
              "      <td id=\"T_70eec_row7_col0\" class=\"data row7 col0\" >AON</td>\n",
              "      <td id=\"T_70eec_row7_col1\" class=\"data row7 col1\" >09:46 AM EDT</td>\n",
              "      <td id=\"T_70eec_row7_col2\" class=\"data row7 col2\" >Evercore ISI</td>\n",
              "      <td id=\"T_70eec_row7_col3\" class=\"data row7 col3\" >354.640000</td>\n",
              "      <td id=\"T_70eec_row7_col4\" class=\"data row7 col4\" >427</td>\n",
              "      <td id=\"T_70eec_row7_col5\" class=\"data row7 col5\" >Aon plc price target raised to $427 from $411 at Evercore ISI</td>\n",
              "    </tr>\n",
              "    <tr>\n",
              "      <th id=\"T_70eec_level0_row8\" class=\"row_heading level0 row8\" >8</th>\n",
              "      <td id=\"T_70eec_row8_col0\" class=\"data row8 col0\" >FIHL</td>\n",
              "      <td id=\"T_70eec_row8_col1\" class=\"data row8 col1\" >09:46 AM EDT</td>\n",
              "      <td id=\"T_70eec_row8_col2\" class=\"data row8 col2\" >Evercore ISI</td>\n",
              "      <td id=\"T_70eec_row8_col3\" class=\"data row8 col3\" >18.290000</td>\n",
              "      <td id=\"T_70eec_row8_col4\" class=\"data row8 col4\" >19</td>\n",
              "      <td id=\"T_70eec_row8_col5\" class=\"data row8 col5\" >Fidelis Insurance price target raised to $19 from $18 at Evercore ISI</td>\n",
              "    </tr>\n",
              "    <tr>\n",
              "      <th id=\"T_70eec_level0_row9\" class=\"row_heading level0 row9\" >9</th>\n",
              "      <td id=\"T_70eec_row9_col0\" class=\"data row9 col0\" >EG</td>\n",
              "      <td id=\"T_70eec_row9_col1\" class=\"data row9 col1\" >09:46 AM EDT</td>\n",
              "      <td id=\"T_70eec_row9_col2\" class=\"data row9 col2\" >Evercore ISI</td>\n",
              "      <td id=\"T_70eec_row9_col3\" class=\"data row9 col3\" >353.130000</td>\n",
              "      <td id=\"T_70eec_row9_col4\" class=\"data row9 col4\" >384</td>\n",
              "      <td id=\"T_70eec_row9_col5\" class=\"data row9 col5\" >Everest Group price target raised to $384 from $380 at Evercore ISI</td>\n",
              "    </tr>\n",
              "  </tbody>\n",
              "</table>\n"
            ]
          },
          "metadata": {},
          "execution_count": 17
        }
      ]
    }
  ]
}