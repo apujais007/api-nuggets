{
  "nbformat": 4,
  "nbformat_minor": 0,
  "metadata": {
    "colab": {
      "provenance": [],
      "authorship_tag": "ABX9TyPmcvpXwgUyfw2VaKjkma4J"
    },
    "kernelspec": {
      "name": "python3",
      "display_name": "Python 3"
    },
    "language_info": {
      "name": "python"
    }
  },
  "cells": [
    {
      "cell_type": "code",
      "execution_count": null,
      "metadata": {
        "colab": {
          "base_uri": "https://localhost:8080/"
        },
        "id": "dVahafskfBA-",
        "outputId": "539e90b9-d2d7-4b1f-e6b7-6d372520b4fd"
      },
      "outputs": [
        {
          "output_type": "stream",
          "name": "stdout",
          "text": [
            "FMP_API_KEY environment variable has been set.\n"
          ]
        }
      ],
      "source": [
        "from google.colab import userdata\n",
        "import os\n",
        "\n",
        "# Set the OPENAI_API_KEY environment variable\n",
        "os.environ[\"FMP_API_KEY\"] = userdata.get('FMP')\n",
        "\n",
        "print(\"FMP_API_KEY environment variable has been set.\")"
      ]
    },
    {
      "cell_type": "code",
      "source": [
        "import requests\n",
        "import pandas as pd\n",
        "\n",
        "API_KEY = \"rPpRIiVv6rTHrKxWVZwqX0huJOqSJVxq\"\n",
        "BOT_TOKEN = \"7574321003:AAGtyMbmdXHEGWX1hMifdr-Y2wM4-kPRPVs\"\n",
        "CHAT_ID = \"411939711\"\n",
        "\n",
        "def fetch_sp500_symbols():\n",
        "    url = f\"https://financialmodelingprep.com/api/v3/sp500_constituent?apikey={API_KEY}\"\n",
        "    data = requests.get(url).json()\n",
        "    return [item[\"symbol\"] for item in data]\n",
        "\n",
        "def fetch_quotes(symbols, chunk_size=50):\n",
        "    quotes = []\n",
        "    for i in range(0, len(symbols), chunk_size):\n",
        "        chunk = \",\".join(symbols[i:i+chunk_size])\n",
        "        url = f\"https://financialmodelingprep.com/api/v3/quote/{chunk}?apikey={API_KEY}\"\n",
        "        data = requests.get(url).json()\n",
        "        quotes.extend(data)\n",
        "    return quotes\n",
        "\n",
        "def prepare_top_movers(df, top_n=10):\n",
        "    df[\"changesPercentage\"] = pd.to_numeric(df[\"changesPercentage\"], errors=\"coerce\")\n",
        "    #df = df.rename(columns={\"changesPercentage\": \"age\"})\n",
        "\n",
        "    top_gainers = df.sort_values(\"changesPercentage\", ascending=False).head(top_n)\n",
        "    top_losers = df.sort_values(\"changesPercentage\", ascending=True).head(top_n)\n",
        "\n",
        "    return top_gainers, top_losers\n",
        "\n",
        "\n",
        "def df_to_telegram_table(df, title):\n",
        "    header = \"`{:<8} {:<10} {:<10} {:<8}`\".format(\"Symbol\", \"Price\", \"Change\", \"%age\")\n",
        "    rows = [\n",
        "        \"`{:<8} {:<10.2f} {:<10.2f} {:<8.2f}`\".format(\n",
        "            r.symbol, r.price, r.change, r._asdict().get(\"changesPercentage\", 0)\n",
        "        )\n",
        "        for r in df.itertuples(index=False)\n",
        "    ]\n",
        "    message = f\"*{title}:*\\n\\n\" + \"\\n\".join([header] + rows)\n",
        "    return message\n",
        "\n",
        "def send_telegram_message(message):\n",
        "    url = f\"https://api.telegram.org/bot{BOT_TOKEN}/sendMessage\"\n",
        "    payload = {\"chat_id\": CHAT_ID, \"text\": message, \"parse_mode\": \"Markdown\"}\n",
        "    r = requests.post(url, data=payload)\n",
        "    if r.status_code != 200:\n",
        "        print(\"Telegram send failed:\", r.text)\n",
        "\n",
        "def main():\n",
        "    symbols = fetch_sp500_symbols()\n",
        "    quotes = fetch_quotes(symbols)\n",
        "    df = pd.DataFrame(quotes)\n",
        "\n",
        "    top_gainers, top_losers = prepare_top_movers(df)\n",
        "\n",
        "    msg_gainers = df_to_telegram_table(top_gainers, \"Top 10 Gainers in S&P500\")\n",
        "    msg_losers = df_to_telegram_table(top_losers, \"Top 10 Losers in S&P500\")\n",
        "\n",
        "    send_telegram_message(msg_gainers)\n",
        "    send_telegram_message(msg_losers)\n",
        "\n",
        "if __name__ == \"__main__\":\n",
        "    main()\n"
      ],
      "metadata": {
        "id": "_JULmF0HCT_g"
      },
      "execution_count": null,
      "outputs": []
    }
  ]
}